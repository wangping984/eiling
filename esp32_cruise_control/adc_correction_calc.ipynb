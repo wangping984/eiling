{
 "cells": [
  {
   "cell_type": "markdown",
   "metadata": {},
   "source": [
    "# ADC-DAC校准\n",
    "先读取原始数据（正向递增的部分）"
   ]
  },
  {
   "cell_type": "code",
   "execution_count": 31,
   "metadata": {},
   "outputs": [],
   "source": [
    "temp = 4096\n",
    "\n",
    "dac_val = []\n",
    "adc_val = []\n",
    "with open('ADC_cal.txt') as topo_file:\n",
    "    for line in topo_file:\n",
    "        \n",
    "        temp = temp -1\n",
    "        if temp < 0:\n",
    "            break\n",
    "        # print(line)\n",
    "        mylist = line.split(\" \")\n",
    "        if mylist[0] == \"DAC\":\n",
    "            dac_val.append(mylist[2]) \n",
    "            adc_val.append(mylist[5]) \n",
    "            # print(mylist[2])\n",
    "            # print(mylist[5])\n",
    "        "
   ]
  },
  {
   "cell_type": "markdown",
   "metadata": {},
   "source": [
    "然后，转换为np array的格式"
   ]
  },
  {
   "cell_type": "code",
   "execution_count": 19,
   "metadata": {},
   "outputs": [
    {
     "data": {
      "text/plain": [
       "[<matplotlib.lines.Line2D at 0x1d4e9f91d88>]"
      ]
     },
     "execution_count": 19,
     "metadata": {},
     "output_type": "execute_result"
    },
    {
     "data": {
      "image/png": "[encoded data removed]",
      "text/plain": [
       "<Figure size 432x288 with 1 Axes>"
      ]
     },
     "metadata": {
      "needs_background": "light"
     },
     "output_type": "display_data"
    }
   ],
   "source": [
    "import matplotlib.pyplot as plt\n",
    "import numpy as np\n",
    "\n",
    "dac_val = list(map(int, dac_val))\n",
    "adc_val = list(map(int, adc_val))\n",
    "dac_val = np.array(dac_val)\n",
    "adc_val = np.array(adc_val)/10\n",
    "plt.plot(dac_val,adc_val)\n",
    "plt.plot(dac_val,dac_val)"
   ]
  },
  {
   "cell_type": "markdown",
   "metadata": {},
   "source": [
    "然后进行线性回归分析。得到斜率为1.122，截距为10.8。"
   ]
  },
  {
   "cell_type": "code",
   "execution_count": 21,
   "metadata": {},
   "outputs": [
    {
     "name": "stdout",
     "output_type": "stream",
     "text": [
      "1.1221968149223458\n",
      "10.836754074817463\n"
     ]
    }
   ],
   "source": [
    "from scipy import stats\n",
    "slope, intercept, r, p, std_err = stats.linregress(adc_val, dac_val)\n",
    "print(slope)\n",
    "print(intercept)"
   ]
  },
  {
   "cell_type": "markdown",
   "metadata": {},
   "source": [
    "先读取原始数据（递减的部分）"
   ]
  },
  {
   "cell_type": "code",
   "execution_count": 32,
   "metadata": {},
   "outputs": [
    {
     "ename": "IndentationError",
     "evalue": "unexpected indent (2965901679.py, line 10)",
     "output_type": "error",
     "traceback": [
      "\u001b[1;36m  File \u001b[1;32m\"C:\\Users\\wp\\AppData\\Local\\Temp\\ipykernel_7592\\2965901679.py\"\u001b[1;36m, line \u001b[1;32m10\u001b[0m\n\u001b[1;33m    if mylist[0] == \"DAC\":\u001b[0m\n\u001b[1;37m    ^\u001b[0m\n\u001b[1;31mIndentationError\u001b[0m\u001b[1;31m:\u001b[0m unexpected indent\n"
     ]
    }
   ],
   "source": [
    "with open('ADC_cal.txt') as fp:\n",
    "    # read line number 3 to 5\n",
    "    # index starts from 0\n",
    "    x = fp.readlines()[4096:4096+4096]\n",
    "\n",
    "dac_val = []\n",
    "adc_val = []\n",
    "for line in x:\n",
    "    mylist = line.split(\" \")\n",
    "    if mylist[0] == \"DAC\":\n",
    "        dac_val.append(mylist[2]) \n",
    "        adc_val.append(mylist[5]) \n"
   ]
  },
  {
   "cell_type": "code",
   "execution_count": null,
   "metadata": {},
   "outputs": [],
   "source": [
    "temp = 4096\n",
    "\n",
    "dac_val = []\n",
    "adc_val = []\n",
    "with open('ADC_cal.txt') as topo_file:\n",
    "    for line in topo_file:\n",
    "        \n",
    "        temp = temp -1\n",
    "        if temp < 0:\n",
    "            break\n",
    "        # print(line)\n",
    "        mylist = line.split(\" \")\n",
    "        if mylist[0] == \"DAC\":\n",
    "            dac_val.append(mylist[2]) \n",
    "            adc_val.append(mylist[5]) \n",
    "            # print(mylist[2])\n",
    "            # print(mylist[5])\n",
    "        "
   ]
  }
 ],
 "metadata": {
  "interpreter": {
   "hash": "bc3d5959a5b8f6f449253d9c97a1f4786a30e746c948c366ccf252b0b6a5f87c"
  },
  "kernelspec": {
   "display_name": "Python 3.9.7 ('lane-det')",
   "language": "python",
   "name": "python3"
  },
  "language_info": {
   "codemirror_mode": {
    "name": "ipython",
    "version": 3
   },
   "file_extension": ".py",
   "mimetype": "text/x-python",
   "name": "python",
   "nbconvert_exporter": "python",
   "pygments_lexer": "ipython3",
   "version": "3.7.11"
  },
  "orig_nbformat": 4
 },
 "nbformat": 4,
 "nbformat_minor": 2
}

{
 "cells": [
  {
   "cell_type": "code",
   "execution_count": 14,
   "metadata": {},
   "outputs": [
    {
     "name": "stdout",
     "output_type": "stream",
     "text": [
      "DAC = 0 ADC = 74\n",
      "\n",
      "0\n",
      "74\n",
      "\n",
      "DAC = 1 ADC = 71\n",
      "\n",
      "1\n",
      "71\n",
      "\n",
      "DAC = 2 ADC = 78\n",
      "\n",
      "2\n",
      "78\n",
      "\n",
      "DAC = 3 ADC = 120\n",
      "\n",
      "3\n",
      "120\n",
      "\n",
      "DAC = 4 ADC = 127\n",
      "\n",
      "4\n",
      "127\n",
      "\n",
      "DAC = 5 ADC = 158\n",
      "\n",
      "5\n",
      "158\n",
      "\n",
      "DAC = 6 ADC = 158\n",
      "\n",
      "6\n",
      "158\n",
      "\n",
      "DAC = 7 ADC = 172\n",
      "\n",
      "7\n",
      "172\n",
      "\n",
      "DAC = 8 ADC = 181\n",
      "\n",
      "8\n",
      "181\n",
      "\n"
     ]
    }
   ],
   "source": [
    "temp = 10\n",
    "with open('ADC_cal.txt') as topo_file:\n",
    "    for line in topo_file:\n",
    "        temp = temp -1\n",
    "        if temp <= 0:\n",
    "            break\n",
    "        print(line)\n",
    "        mylist = line.split(\" \")\n",
    "        if mylist[0] == \"DAC\":\n",
    "            print(mylist[2])\n",
    "            print(mylist[5])"
   ]
  }
 ],
 "metadata": {
  "interpreter": {
   "hash": "bc3d5959a5b8f6f449253d9c97a1f4786a30e746c948c366ccf252b0b6a5f87c"
  },
  "kernelspec": {
   "display_name": "Python 3.9.7 ('lane-det')",
   "language": "python",
   "name": "python3"
  },
  "language_info": {
   "codemirror_mode": {
    "name": "ipython",
    "version": 3
   },
   "file_extension": ".py",
   "mimetype": "text/x-python",
   "name": "python",
   "nbconvert_exporter": "python",
   "pygments_lexer": "ipython3",
   "version": "3.9.7"
  },
  "orig_nbformat": 4
 },
 "nbformat": 4,
 "nbformat_minor": 2
}
